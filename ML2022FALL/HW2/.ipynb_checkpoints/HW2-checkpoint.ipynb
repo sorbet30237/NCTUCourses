{
 "cells": [
  {
   "cell_type": "markdown",
   "metadata": {},
   "source": [
    "## HW2: Linear Discriminant Analysis\n",
    "In hw2, you need to implement [Fisher’s linear discriminant](https://towardsdatascience.com/fishers-linear-discriminant-intuitively-explained-52a1ba79e1bb) by using only numpy, then train your implemented model by the provided dataset and test the performance with testing data\n",
    "\n",
    "Please note that only **NUMPY** can be used to implement your model, you will get **zero point** by simply calling `sklearn.discriminant_analysis.LinearDiscriminantAnalysis` "
   ]
  },
  {
   "cell_type": "markdown",
   "metadata": {},
   "source": [
    "## Load data"
   ]
  },
  {
   "cell_type": "code",
   "execution_count": 1,
   "metadata": {},
   "outputs": [],
   "source": [
    "import numpy as np"
   ]
  },
  {
   "cell_type": "code",
   "execution_count": 2,
   "metadata": {},
   "outputs": [],
   "source": [
    "x_train, x_test, y_train, y_test = np.load('classification_data.npy', allow_pickle=True)"
   ]
  },
  {
   "cell_type": "code",
   "execution_count": 3,
   "metadata": {},
   "outputs": [
    {
     "name": "stdout",
     "output_type": "stream",
     "text": [
      "(3750, 2)\n",
      "(3750,)\n",
      "(1250, 2)\n",
      "(1250,)\n"
     ]
    }
   ],
   "source": [
    "print(x_train.shape)\n",
    "print(y_train.shape)\n",
    "print(x_test.shape)\n",
    "print(y_test.shape)"
   ]
  },
  {
   "cell_type": "markdown",
   "metadata": {},
   "source": [
    "## 1. Compute the mean vectors mi, (i=1,2) of each 2 classes"
   ]
  },
  {
   "cell_type": "code",
   "execution_count": 4,
   "metadata": {},
   "outputs": [],
   "source": [
    "## Your code HERE\n",
    "\n",
    "m1 = np.zeros((1,2))\n",
    "m2 = np.zeros((1,2))\n",
    "count1 = 0.0\n",
    "count2 = 0.0\n",
    "size = x_train.size / x_train[0].size\n",
    "for i in range(int(size)):\n",
    "    if(y_train[i] == 0):\n",
    "        m1[0,0] = m1[0,0] + x_train[i,0]\n",
    "        m1[0,1] = m1[0,1] + x_train[i,1]\n",
    "        count1 = count1+1.0\n",
    "    else:\n",
    "        m2[0,0] = m2[0,0] + x_train[i,0]\n",
    "        m2[0,1] = m2[0,1] + x_train[i,1]\n",
    "        count2 = count2+1.0\n",
    "m1 = m1 / count1\n",
    "m2 = m2 / count2"
   ]
  },
  {
   "cell_type": "code",
   "execution_count": 5,
   "metadata": {
    "scrolled": true
   },
   "outputs": [
    {
     "name": "stdout",
     "output_type": "stream",
     "text": [
      "mean vector of class 1: [[ 0.99253136 -0.99115481]] mean vector of class 2: [[-0.9888012   1.00522778]]\n"
     ]
    }
   ],
   "source": [
    "print(f\"mean vector of class 1: {m1}\", f\"mean vector of class 2: {m2}\")"
   ]
  },
  {
   "cell_type": "markdown",
   "metadata": {},
   "source": [
    "## 2. Compute the Within-class scatter matrix SW"
   ]
  },
  {
   "cell_type": "code",
   "execution_count": 6,
   "metadata": {},
   "outputs": [],
   "source": [
    "## Your code HERE\n",
    "sw = np.zeros((x_train[0].size,x_train[0].size))\n",
    "for i in range(0, int(size)):\n",
    "    if(y_train[i] == 0):\n",
    "        sw = sw + (x_train[i]-m1).T @ (x_train[i]-m1)\n",
    "    else:\n",
    "        sw = sw + (x_train[i]-m2).T @ (x_train[i]-m2)"
   ]
  },
  {
   "cell_type": "code",
   "execution_count": 7,
   "metadata": {},
   "outputs": [
    {
     "name": "stdout",
     "output_type": "stream",
     "text": [
      "Within-class scatter matrix SW: [[ 4337.38546493 -1795.55656547]\n",
      " [-1795.55656547  2834.75834886]]\n"
     ]
    }
   ],
   "source": [
    "print(f\"Within-class scatter matrix SW: {sw}\")"
   ]
  },
  {
   "cell_type": "markdown",
   "metadata": {},
   "source": [
    "## 3.  Compute the Between-class scatter matrix SB"
   ]
  },
  {
   "cell_type": "code",
   "execution_count": 8,
   "metadata": {},
   "outputs": [],
   "source": [
    "## Your code HERE\n",
    "sb = (m2-m1).T @ (m2-m1)"
   ]
  },
  {
   "cell_type": "code",
   "execution_count": 9,
   "metadata": {},
   "outputs": [
    {
     "name": "stdout",
     "output_type": "stream",
     "text": [
      "Between-class scatter matrix SB: [[ 3.92567873 -3.95549783]\n",
      " [-3.95549783  3.98554344]]\n"
     ]
    }
   ],
   "source": [
    "print(f\"Between-class scatter matrix SB: {sb}\")"
   ]
  },
  {
   "cell_type": "markdown",
   "metadata": {},
   "source": [
    "## 4. Compute the Fisher’s linear discriminant"
   ]
  },
  {
   "cell_type": "code",
   "execution_count": 10,
   "metadata": {},
   "outputs": [],
   "source": [
    "## Your code HERE\n",
    "vec = np.linalg.inv(sw)@sb\n",
    "e, v = np.linalg.eig(vec)\n",
    "maxx = np.argmax(e)\n",
    "w = v[:,maxx:maxx+1].T"
   ]
  },
  {
   "cell_type": "code",
   "execution_count": 11,
   "metadata": {},
   "outputs": [
    {
     "name": "stdout",
     "output_type": "stream",
     "text": [
      " Fisher’s linear discriminant: [[ 0.37003809 -0.92901658]]\n"
     ]
    }
   ],
   "source": [
    "print(f\" Fisher’s linear discriminant: {w}\")"
   ]
  },
  {
   "cell_type": "code",
   "execution_count": null,
   "metadata": {},
   "outputs": [],
   "source": []
  },
  {
   "cell_type": "markdown",
   "metadata": {},
   "source": [
    "## 5. Project the test data by linear discriminant and get the class prediction by `K` nearest-neighbor rule. Please report the accuracy score with `K` values from 1 to 5\n",
    "you can use `accuracy_score` function from `sklearn.metric.accuracy_score`"
   ]
  },
  {
   "cell_type": "code",
   "execution_count": 12,
   "metadata": {},
   "outputs": [
    {
     "name": "stdout",
     "output_type": "stream",
     "text": [
      "[[ 2.68116355]\n",
      " [-1.6046331 ]\n",
      " [-1.19503736]\n",
      " ...\n",
      " [ 1.02669749]\n",
      " [-1.22120151]\n",
      " [-1.23507452]]\n",
      "0.8488\n",
      "0.8704\n",
      "0.8792\n",
      "0.8824\n",
      "0.8912\n"
     ]
    }
   ],
   "source": [
    "import math\n",
    "from sklearn.metrics import accuracy_score\n",
    "w = w/math.sqrt(w[0,0] ** 2 + w[0,1] ** 2)\n",
    "project_x = x_train@w.T\n",
    "print(project_x)\n",
    "def classfication(project_x,y,test,k):\n",
    "    x = project_x\n",
    "    index = np.argsort(np.abs(x - test),axis = 0)[:k]\n",
    "    ans = y[index]\n",
    "    if(ans.sum()>ans.size/2):\n",
    "        return 1\n",
    "    else:\n",
    "        return 0\n",
    "y_pred = np.zeros((1,y_test.size))    \n",
    "project = x_test@w.T\n",
    "for k in range(1,6):\n",
    "    for i in range(0,project.size):\n",
    "        y_pred[0,i] = classfication(project_x,y_train,project[i,0],k)\n",
    "    # print(y_pred.shape)    \n",
    "    acc = accuracy_score(y_test, y_pred.T)\n",
    "    print(acc)"
   ]
  },
  {
   "cell_type": "code",
   "execution_count": 13,
   "metadata": {},
   "outputs": [
    {
     "name": "stdout",
     "output_type": "stream",
     "text": [
      "Accuracy of test-set 0.8912\n"
     ]
    }
   ],
   "source": [
    "print(f\"Accuracy of test-set {acc}\")"
   ]
  },
  {
   "cell_type": "markdown",
   "metadata": {},
   "source": [
    "## 6. Plot the 1) best projection line on the training data and show the slope and intercept on the title (you can choose any value of intercept for better visualization) 2) colorize the data with each class 3) project all data points on your projection line. Your result should look like [this image](https://i.imgur.com/tubMQpw.jpg)"
   ]
  },
  {
   "cell_type": "code",
   "execution_count": null,
   "metadata": {},
   "outputs": [],
   "source": []
  }
 ],
 "metadata": {
  "kernelspec": {
   "display_name": "Python 3 (ipykernel)",
   "language": "python",
   "name": "python3"
  },
  "language_info": {
   "codemirror_mode": {
    "name": "ipython",
    "version": 3
   },
   "file_extension": ".py",
   "mimetype": "text/x-python",
   "name": "python",
   "nbconvert_exporter": "python",
   "pygments_lexer": "ipython3",
   "version": "3.8.13"
  }
 },
 "nbformat": 4,
 "nbformat_minor": 4
}
