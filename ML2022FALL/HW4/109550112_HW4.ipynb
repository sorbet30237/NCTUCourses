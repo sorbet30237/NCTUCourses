{
 "cells": [
  {
   "cell_type": "code",
   "execution_count": 1,
   "metadata": {},
   "outputs": [],
   "source": [
    "import numpy as np\n",
    "import pandas as pd\n",
    "from sklearn.svm import SVC, SVR\n",
    "from sklearn.metrics import accuracy_score"
   ]
  },
  {
   "cell_type": "markdown",
   "metadata": {},
   "source": [
    "## Load data"
   ]
  },
  {
   "cell_type": "code",
   "execution_count": 2,
   "metadata": {},
   "outputs": [],
   "source": [
    "x_train = np.load(\"x_train.npy\")\n",
    "y_train = np.load(\"y_train.npy\")\n",
    "x_test = np.load(\"x_test.npy\")\n",
    "# y_test = np.load(\"y_test.npy\")"
   ]
  },
  {
   "cell_type": "code",
   "execution_count": 3,
   "metadata": {},
   "outputs": [
    {
     "name": "stdout",
     "output_type": "stream",
     "text": [
      "(7000, 300)\n"
     ]
    }
   ],
   "source": [
    "# 7000 data with 300 features\n",
    "print(x_train.shape)"
   ]
  },
  {
   "cell_type": "code",
   "execution_count": 4,
   "metadata": {},
   "outputs": [
    {
     "name": "stdout",
     "output_type": "stream",
     "text": [
      "[0 1]\n"
     ]
    }
   ],
   "source": [
    "# It's a binary classification problem \n",
    "print(np.unique(y_train))"
   ]
  },
  {
   "cell_type": "markdown",
   "metadata": {},
   "source": [
    "## Question 1\n",
    "K-fold data partition: Implement the K-fold cross-validation function. Your function should take K as an argument and return a list of lists (len(list) should equal to K), which contains K elements. Each element is a list contains two parts, the first part contains the index of all training folds, e.g. Fold 2 to Fold 5 in split 1. The second part contains the index of validation fold, e.g. Fold 1 in  split 1"
   ]
  },
  {
   "cell_type": "code",
   "execution_count": 5,
   "metadata": {},
   "outputs": [],
   "source": [
    "def cross_validation(x_train, y_train, k=5):\n",
    "    \n",
    "    N = x_train.shape[0]\n",
    "    \n",
    "    indices = np.arange(N)\n",
    "    np.random.shuffle(indices)\n",
    "    \n",
    "    fold_ls = []\n",
    "    for i in range(k):\n",
    "        \n",
    "        if i < N%k:\n",
    "            \n",
    "            fold_ls.append(indices[:N//k+1])\n",
    "            indices = indices[N//k+1:]\n",
    "        \n",
    "        else:\n",
    "            \n",
    "            fold_ls.append(indices[:N//k])\n",
    "            indices = indices[N//k:]\n",
    "    \n",
    "    split_ls = []\n",
    "    for i in range(k):\n",
    "        \n",
    "        validation_indices = fold_ls[i]\n",
    "        training_fold_ls = [fold_ls[j] for j in range(k) if j != i]\n",
    "        training_indices = np.concatenate(training_fold_ls)\n",
    "        \n",
    "        split_ls.append([training_indices, validation_indices])\n",
    "    \n",
    "    return split_ls"
   ]
  },
  {
   "cell_type": "code",
   "execution_count": 6,
   "metadata": {},
   "outputs": [],
   "source": [
    "kfold_data = cross_validation(x_train, y_train, k=10)\n",
    "assert len(kfold_data) == 10 # should contain 10 fold of data\n",
    "assert len(kfold_data[0]) == 2 # each element should contain train fold and validation fold\n",
    "assert kfold_data[0][1].shape[0] == 700 # The number of data in each validation fold should equal to training data divieded by K"
   ]
  },
  {
   "cell_type": "markdown",
   "metadata": {},
   "source": [
    "## example"
   ]
  },
  {
   "cell_type": "code",
   "execution_count": 7,
   "metadata": {},
   "outputs": [
    {
     "name": "stdout",
     "output_type": "stream",
     "text": [
      "Split: 1, Training index: [ 0  1  2  4  5  6  7  8  9 11 13 15 16 17 18 19], Validation index: [ 3 10 12 14]\n",
      "Split: 2, Training index: [ 0  1  3  4  5  6  7 10 11 12 13 14 15 17 18 19], Validation index: [ 2  8  9 16]\n",
      "Split: 3, Training index: [ 0  2  3  5  6  8  9 10 11 12 13 14 15 16 17 18], Validation index: [ 1  4  7 19]\n",
      "Split: 4, Training index: [ 0  1  2  3  4  5  6  7  8  9 10 12 14 16 17 19], Validation index: [11 13 15 18]\n",
      "Split: 5, Training index: [ 1  2  3  4  7  8  9 10 11 12 13 14 15 16 18 19], Validation index: [ 0  5  6 17]\n"
     ]
    }
   ],
   "source": [
    "from sklearn.model_selection import KFold\n",
    "\n",
    "X = np.arange(20)\n",
    "kf = KFold(n_splits=5, shuffle=True)\n",
    "kfold_data= []\n",
    "for i, (train_index, val_index) in enumerate(kf.split(X)):\n",
    "    print(\"Split: %s, Training index: %s, Validation index: %s\" % (i+1, train_index, val_index))\n",
    "    kfold_data.append([train_index, val_index])"
   ]
  },
  {
   "cell_type": "code",
   "execution_count": 8,
   "metadata": {},
   "outputs": [],
   "source": [
    "assert len(kfold_data) == 5 # should contain 5 fold of data\n",
    "assert len(kfold_data[0]) == 2 # each element should contains index of training fold and validation fold\n",
    "assert kfold_data[0][1].shape[0] == 4 # The number of data in each validation fold should equal to training data divieded by K"
   ]
  },
  {
   "cell_type": "markdown",
   "metadata": {},
   "source": [
    "## Question 2\n",
    "Using sklearn.svm.SVC to train a classifier on the provided train set and conduct the grid search of “C” and “gamma” to find the best parameters by cross-validation."
   ]
  },
  {
   "cell_type": "code",
   "execution_count": 9,
   "metadata": {},
   "outputs": [],
   "source": [
    "clf = SVC(C=1.0, kernel='rbf', gamma=0.01)"
   ]
  },
  {
   "cell_type": "code",
   "execution_count": 10,
   "metadata": {},
   "outputs": [],
   "source": [
    "## your code\n",
    "\n",
    "split_ls = cross_validation(x_train, y_train, k=5)\n",
    "Cs = 10.0 ** np.arange(-2, 5)\n",
    "gammas = 10.0 ** np.arange(-7, -2)\n",
    "\n",
    "accuracy_array = np.zeros((Cs.shape[0], gammas.shape[0]))\n",
    "\n",
    "for i in range(Cs.shape[0]):\n",
    "    for j in range(gammas.shape[0]):\n",
    "        \n",
    "        for trainging_indices, validation_indices in split_ls:\n",
    "        \n",
    "            clf = SVC(C=Cs[i], kernel='rbf', gamma=gammas[j])\n",
    "            clf.fit(x_train[trainging_indices], y_train[trainging_indices])\n",
    "            \n",
    "            y_predicts = clf.predict(x_train[validation_indices])\n",
    "            accuracy_array[i, j] = accuracy_array[i, j] + accuracy_score(y_train[validation_indices], y_predicts)\n",
    "        \n",
    "        accuracy_array[i, j] = accuracy_array[i, j] / len(split_ls)\n",
    "\n",
    "        \n",
    "i_best, j_best = np.unravel_index(np.argmax(accuracy_array), accuracy_array.shape)\n",
    "best_parameters = (Cs[i_best], gammas[j_best])"
   ]
  },
  {
   "cell_type": "code",
   "execution_count": 11,
   "metadata": {},
   "outputs": [
    {
     "name": "stdout",
     "output_type": "stream",
     "text": [
      "(1.0, 0.0001)\n"
     ]
    }
   ],
   "source": [
    "print(best_parameters)"
   ]
  },
  {
   "cell_type": "markdown",
   "metadata": {},
   "source": [
    "## Question 3\n",
    "Plot the grid search results of your SVM. The x, y represents the hyperparameters of “gamma” and “C”, respectively. And the color represents the average score of validation folds\n",
    "You reults should be look like this reference image below ![image](https://miro.medium.com/max/1296/1*wGWTup9r4cVytB5MOnsjdQ.png) "
   ]
  },
  {
   "cell_type": "code",
   "execution_count": 12,
   "metadata": {},
   "outputs": [
    {
     "data": {
      "image/png": "[encoded data removed]",
      "text/plain": [
       "<Figure size 640x480 with 2 Axes>"
      ]
     },
     "metadata": {},
     "output_type": "display_data"
    }
   ],
   "source": [
    "import matplotlib.pyplot as plt\n",
    "\n",
    "fig, ax = plt.subplots()\n",
    "im = ax.imshow(accuracy_array)\n",
    "fig.colorbar(im)\n",
    "\n",
    "ax.set_xticks(np.arange(gammas.shape[0]), labels=gammas)\n",
    "ax.set_yticks(np.arange(Cs.shape[0]), labels=Cs)\n",
    "\n",
    "for i in range(Cs.shape[0]):\n",
    "    for j in range(gammas.shape[0]):\n",
    "        text = ax.text(j, i, accuracy_array[i, j].round(3), ha='center', va='center')\n",
    "\n",
    "ax.set_title('Hyperparameter Gridsearch')\n",
    "plt.show()"
   ]
  },
  {
   "cell_type": "markdown",
   "metadata": {},
   "source": [
    "## Question 4\n",
    "Train your SVM model by the best parameters you found from question 2 on the whole training set and evaluate the performance on the test set."
   ]
  },
  {
   "cell_type": "code",
   "execution_count": 13,
   "metadata": {},
   "outputs": [
    {
     "ename": "NameError",
     "evalue": "name 'y_test' is not defined",
     "output_type": "error",
     "traceback": [
      "\u001b[1;31m---------------------------------------------------------------------------\u001b[0m",
      "\u001b[1;31mNameError\u001b[0m                                 Traceback (most recent call last)",
      "Input \u001b[1;32mIn [13]\u001b[0m, in \u001b[0;36m<cell line: 4>\u001b[1;34m()\u001b[0m\n\u001b[0;32m      2\u001b[0m best_model\u001b[38;5;241m.\u001b[39mfit(x_train, y_train)\n\u001b[0;32m      3\u001b[0m y_pred \u001b[38;5;241m=\u001b[39m best_model\u001b[38;5;241m.\u001b[39mpredict(x_test)\n\u001b[1;32m----> 4\u001b[0m \u001b[38;5;28mprint\u001b[39m(\u001b[38;5;124m\"\u001b[39m\u001b[38;5;124mAccuracy score: \u001b[39m\u001b[38;5;124m\"\u001b[39m, accuracy_score(y_pred, \u001b[43my_test\u001b[49m))\n",
      "\u001b[1;31mNameError\u001b[0m: name 'y_test' is not defined"
     ]
    }
   ],
   "source": [
    "best_model = SVC(C=best_parameters[0], kernel='rbf', gamma=best_parameters[1])\n",
    "best_model.fit(x_train, y_train)\n",
    "y_pred = best_model.predict(x_test)\n",
    "print(\"Accuracy score: \", accuracy_score(y_pred, y_test))"
   ]
  }
 ],
 "metadata": {
  "kernelspec": {
   "display_name": "Python 3 (ipykernel)",
   "language": "python",
   "name": "python3"
  },
  "language_info": {
   "codemirror_mode": {
    "name": "ipython",
    "version": 3
   },
   "file_extension": ".py",
   "mimetype": "text/x-python",
   "name": "python",
   "nbconvert_exporter": "python",
   "pygments_lexer": "ipython3",
   "version": "3.8.13"
  }
 },
 "nbformat": 4,
 "nbformat_minor": 4
}
